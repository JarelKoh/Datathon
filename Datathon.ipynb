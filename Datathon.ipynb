{
 "cells": [
  {
   "cell_type": "code",
   "execution_count": 12,
   "id": "91907a43",
   "metadata": {},
   "outputs": [],
   "source": [
    "import pandas as  pd\n",
    "data = pd.read_csv(\"fraud test.csv\")"
   ]
  },
  {
   "cell_type": "code",
   "execution_count": 13,
   "id": "e3b3096e",
   "metadata": {},
   "outputs": [
    {
     "name": "stdout",
     "output_type": "stream",
     "text": [
      "Requirement already satisfied: ace_tools in /Users/abinesh/anaconda3/lib/python3.11/site-packages (0.0)\n",
      "Note: you may need to restart the kernel to use updated packages.\n"
     ]
    }
   ],
   "source": [
    "pip install ace_tools"
   ]
  },
  {
   "cell_type": "code",
   "execution_count": 14,
   "id": "aef17b15",
   "metadata": {},
   "outputs": [
    {
     "name": "stdout",
     "output_type": "stream",
     "text": [
      "       trans_date_trans_time        cc_num  \\\n",
      "0           21/06/2020 12:14  2.291160e+15   \n",
      "1           21/06/2020 12:14  3.573030e+15   \n",
      "2           21/06/2020 12:14  3.598220e+15   \n",
      "3           21/06/2020 12:15  3.591920e+15   \n",
      "4           21/06/2020 12:15  3.526830e+15   \n",
      "...                      ...           ...   \n",
      "555714      31/12/2020 23:59  3.056060e+13   \n",
      "555715      31/12/2020 23:59  3.556610e+15   \n",
      "555716      31/12/2020 23:59  6.011720e+15   \n",
      "555717      31/12/2020 23:59  4.079770e+12   \n",
      "555718      31/12/2020 23:59  4.170690e+15   \n",
      "\n",
      "                                    merchant        category     amt    first  \\\n",
      "0                      fraud_Kirlin and Sons   personal_care    2.86     Jeff   \n",
      "1                       fraud_Sporer-Keebler   personal_care   29.84   Joanne   \n",
      "2       fraud_Swaniawski, Nitzsche and Welch  health_fitness   41.28   Ashley   \n",
      "3                          fraud_Haley Group        misc_pos   60.05    Brian   \n",
      "4                      fraud_Johnston-Casper          travel    3.19   Nathan   \n",
      "...                                      ...             ...     ...      ...   \n",
      "555714                 fraud_Reilly and Sons  health_fitness   43.77  Michael   \n",
      "555715                  fraud_Hoppe-Parisian       kids_pets  111.84     Jose   \n",
      "555716                       fraud_Rau-Robel       kids_pets   86.88      Ann   \n",
      "555717                 fraud_Breitenberg LLC          travel    7.99     Eric   \n",
      "555718                     fraud_Dare-Marvin   entertainment   38.13   Samuel   \n",
      "\n",
      "            last gender                       street          city  ...  \\\n",
      "0        Elliott      M            351 Darlene Green      Columbia  ...   \n",
      "1       Williams      F             3638 Marsh Union       Altonah  ...   \n",
      "2          Lopez      F         9333 Valentine Point      Bellmore  ...   \n",
      "3       Williams      M  32941 Krystal Mill Apt. 552    Titusville  ...   \n",
      "4         Massey      M     5783 Evan Roads Apt. 465      Falmouth  ...   \n",
      "...          ...    ...                          ...           ...  ...   \n",
      "555714     Olson      M          558 Michael Estates         Luray  ...   \n",
      "555715   Vasquez      M          572 Davis Mountains  Lake Jackson  ...   \n",
      "555716    Lawson      F   144 Evans Islands Apt. 683       Burbank  ...   \n",
      "555717   Preston      M   7020 Doyle Stream Apt. 951          Mesa  ...   \n",
      "555718      Frey      M     830 Myers Plaza Apt. 384        Edmond  ...   \n",
      "\n",
      "            lat      long  city_pop                     job         dob  \\\n",
      "0       33.9659  -80.9355    333497     Mechanical engineer  19/03/1968   \n",
      "1       40.3207 -110.4360       302  Sales professional, IT  17/01/1990   \n",
      "2       40.6729  -73.5365     34496       Librarian, public  21/10/1970   \n",
      "3       28.5697  -80.8191     54767            Set designer  25/07/1987   \n",
      "4       44.2529  -85.0170      1126      Furniture designer  06/07/1955   \n",
      "...         ...       ...       ...                     ...         ...   \n",
      "555714  40.4931  -91.8912       519            Town planner  13/02/1966   \n",
      "555715  29.0393  -95.4401     28739          Futures trader  27/12/1999   \n",
      "555716  46.1966 -118.9017      3684                Musician  29/11/1981   \n",
      "555717  44.6255 -116.4493       129            Cartographer  15/12/1965   \n",
      "555718  35.6665  -97.4798    116001             Media buyer  10/05/1993   \n",
      "\n",
      "                               trans_num   unix_time  merch_lat  merch_long  \\\n",
      "0       2da90c7d74bd46a0caf3777415b3ebd3  1371816865  33.986391  -81.200714   \n",
      "1       324cc204407e99f51b0d6ca0055005e7  1371816873  39.450498 -109.960431   \n",
      "2       c81755dbbbea9d5c77f094348a7579be  1371816893  40.495810  -74.196111   \n",
      "3       2159175b9efe66dc301f149d3d5abf8c  1371816915  28.812398  -80.883061   \n",
      "4       57ff021bd3f328f8738bb535c302a31b  1371816917  44.959148  -85.884734   \n",
      "...                                  ...         ...        ...         ...   \n",
      "555714  9b1f753c79894c9f4b71f04581835ada  1388534347  39.946837  -91.333331   \n",
      "555715  2090647dac2c89a1d86c514c427f5b91  1388534349  29.661049  -96.186633   \n",
      "555716  6c5b7c8add471975aa0fec023b2e8408  1388534355  46.658340 -119.715054   \n",
      "555717  14392d723bb7737606b2700ac791b7aa  1388534364  44.470525 -117.080888   \n",
      "555718  1765bb45b3aa3224b4cdcb6e7a96cee3  1388534374  36.210097  -97.036372   \n",
      "\n",
      "        is_fraud  \n",
      "0              0  \n",
      "1              0  \n",
      "2              0  \n",
      "3              0  \n",
      "4              0  \n",
      "...          ...  \n",
      "555714         0  \n",
      "555715         0  \n",
      "555716         0  \n",
      "555717         0  \n",
      "555718         0  \n",
      "\n",
      "[555719 rows x 22 columns]\n"
     ]
    }
   ],
   "source": [
    "# Drop the 'Unnamed: 0' column\n",
    "cleaned_data = data.drop(columns=['Unnamed: 0'])\n",
    "\n",
    "# Display the first few rows of the cleaned dataset\n",
    "print(cleaned_data)\n"
   ]
  },
  {
   "cell_type": "code",
   "execution_count": 21,
   "id": "468e08a2",
   "metadata": {},
   "outputs": [
    {
     "data": {
      "text/plain": [
       "(185239, 370480)"
      ]
     },
     "execution_count": 21,
     "metadata": {},
     "output_type": "execute_result"
    }
   ],
   "source": [
    "# Split the dataset into a train and test set with 4000 for training and 2000 for testing\n",
    "train_data = cleaned_data.sample(n=185239, random_state=42)\n",
    "test_data = cleaned_data.drop(train_data.index).sample(n=370480, random_state=42)\n",
    "\n",
    "# Show the sizes of the datasets to verify the split\n",
    "train_data_size = train_data.shape[0]\n",
    "test_data_size = test_data.shape[0]\n",
    "\n",
    "(train_data_size, test_data_size)\n"
   ]
  },
  {
   "cell_type": "code",
   "execution_count": 22,
   "id": "63054b54",
   "metadata": {},
   "outputs": [
    {
     "data": {
      "text/plain": [
       "trans_date_trans_time     object\n",
       "cc_num                   float64\n",
       "merchant                  object\n",
       "category                  object\n",
       "amt                      float64\n",
       "first                     object\n",
       "last                      object\n",
       "gender                    object\n",
       "street                    object\n",
       "city                      object\n",
       "state                     object\n",
       "zip                        int64\n",
       "lat                      float64\n",
       "long                     float64\n",
       "city_pop                   int64\n",
       "job                       object\n",
       "dob                       object\n",
       "trans_num                 object\n",
       "unix_time                  int64\n",
       "merch_lat                float64\n",
       "merch_long               float64\n",
       "is_fraud                   int64\n",
       "dtype: object"
      ]
     },
     "execution_count": 22,
     "metadata": {},
     "output_type": "execute_result"
    }
   ],
   "source": [
    "train_data.dtypes"
   ]
  },
  {
   "cell_type": "code",
   "execution_count": 23,
   "id": "bff522e5",
   "metadata": {},
   "outputs": [
    {
     "name": "stdout",
     "output_type": "stream",
     "text": [
      "              precision    recall  f1-score   support\n",
      "\n",
      "           0       1.00      1.00      1.00    184522\n",
      "           1       1.00      1.00      1.00       717\n",
      "\n",
      "    accuracy                           1.00    185239\n",
      "   macro avg       1.00      1.00      1.00    185239\n",
      "weighted avg       1.00      1.00      1.00    185239\n",
      "\n"
     ]
    }
   ],
   "source": [
    "import pandas as pd\n",
    "from sklearn.feature_extraction.text import TfidfVectorizer\n",
    "from sklearn.model_selection import train_test_split\n",
    "from sklearn.pipeline import make_pipeline\n",
    "from sklearn.compose import ColumnTransformer\n",
    "from sklearn.preprocessing import OneHotEncoder\n",
    "from sklearn.ensemble import RandomForestClassifier\n",
    "from sklearn.metrics import classification_report\n",
    "\n",
    "# Select object type columns for NLP processing\n",
    "text_columns = ['merchant', 'category', 'first', 'last', 'gender', 'street', \n",
    "                'city', 'state', 'job', 'trans_num', 'dob']\n",
    "\n",
    "# Combine the text columns into a single dataset\n",
    "X_train_text = train_data[text_columns]\n",
    "\n",
    "# Target variable (is_fraud)\n",
    "y_train = train_data['is_fraud']\n",
    "\n",
    "# Preprocessing: Use OneHotEncoder for these columns (can also try TF-IDF for certain columns)\n",
    "preprocessor = ColumnTransformer(\n",
    "    transformers=[\n",
    "        ('text', OneHotEncoder(handle_unknown='ignore'), text_columns)\n",
    "    ]\n",
    ")\n",
    "\n",
    "# Create a pipeline with preprocessing and model (RandomForest for example)\n",
    "model = make_pipeline(preprocessor, RandomForestClassifier(random_state=42))\n",
    "\n",
    "# Train the model\n",
    "model.fit(X_train_text, y_train)\n",
    "\n",
    "# Predict using the model (self-evaluation on train set)\n",
    "y_pred = model.predict(X_train_text)\n",
    "\n",
    "# Output classification report to check the relationship between object data and 'is_fraud'\n",
    "print(classification_report(y_train, y_pred))"
   ]
  },
  {
   "cell_type": "code",
   "execution_count": null,
   "id": "a766a4a1",
   "metadata": {},
   "outputs": [],
   "source": []
  }
 ],
 "metadata": {
  "kernelspec": {
   "display_name": "Python 3 (ipykernel)",
   "language": "python",
   "name": "python3"
  },
  "language_info": {
   "codemirror_mode": {
    "name": "ipython",
    "version": 3
   },
   "file_extension": ".py",
   "mimetype": "text/x-python",
   "name": "python",
   "nbconvert_exporter": "python",
   "pygments_lexer": "ipython3",
   "version": "3.11.5"
  }
 },
 "nbformat": 4,
 "nbformat_minor": 5
}
